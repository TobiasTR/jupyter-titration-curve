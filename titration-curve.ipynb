{
  "cells": [
    {
      "cell_type": "markdown",
      "metadata": {},
      "source": [
        "#### Titration curve"
      ]
    },
    {
      "cell_type": "markdown",
      "metadata": {},
      "source": [
        "The equivalence point of a titration curve is defined as, the inflection points of the second derivative.\n",
        "\n",
        "This notebook uses scipy make_interp_spline, to create a \"smooth\" curve, and numpy to find the possible equivalence points.\n",
        "\n",
        "https://en.wikipedia.org/wiki/Titration_curve"
      ]
    },
    {
      "cell_type": "code",
      "execution_count": 1,
      "metadata": {},
      "outputs": [],
      "source": [
        "import numpy as np\n",
        "from scipy.interpolate import make_interp_spline\n",
        "import matplotlib.pyplot as plt"
      ]
    },
    {
      "cell_type": "code",
      "execution_count": 2,
      "metadata": {},
      "outputs": [],
      "source": [
        "# Dataset from a potentiometric titration. Should work for any kind of titration.\n",
        "# If you want to read from a csv/excel file see pandas.read_csv\n",
        "x = np.array([2,4,6,8,10,12,14,16,18,20,22,24,26,26.5,28.5,30.5,32.5,34.5,36.5,38.5,40.5,41.5])\n",
        "y = np.array([397,412,421,433,444,457,463,468,476,487,501,514,556,984,1129,1149,1162,1172,1173,1182,1184,1188])"
      ]
    },
    {
      "cell_type": "code",
      "execution_count": 3,
      "metadata": {},
      "outputs": [],
      "source": [
        "# Helper function to calculate the inflection points\n",
        "\n",
        "def find_inflection_points(x, y):\n",
        "    \"\"\"Find the inflection points using the second derivative\"\"\"\n",
        "    d2y = np.gradient(np.gradient(y))\n",
        "    inflection_points = []\n",
        "    for i in range(len(d2y) - 1):\n",
        "        if d2y[i] * d2y[i + 1] < 0:\n",
        "            # found a sign change\n",
        "            inflection_points.append((x[i], y[i]))\n",
        "    return inflection_points\n"
      ]
    },
    {
      "cell_type": "code",
      "execution_count": 4,
      "metadata": {},
      "outputs": [
        {
          "data": {
            "image/png": "[encoded data removed]",
            "text/plain": [
              "<Figure size 432x288 with 1 Axes>"
            ]
          },
          "metadata": {
            "needs_background": "light"
          },
          "output_type": "display_data"
        }
      ],
      "source": [
        "X_Y_Spline = make_interp_spline(x, y)\n",
        "\n",
        "# Returns evenly spaced numbers over a specified interval.\n",
        "X_ = np.linspace(x.min(), x.max(), 500)\n",
        "Y_ = X_Y_Spline(X_)\n",
        "\n",
        "\n",
        "plt.plot(X_, Y_)\n",
        "plt.title(\"Titratin curve using scipy, and numpy\")\n",
        "plt.xlabel(\"X (add your unit)\")\n",
        "plt.ylabel(\"Y (add your unit)\")\n",
        "\n",
        "points = find_inflection_points(X_,Y_)\n",
        "\n",
        "i = 0\n",
        "for x,y in points:\n",
        "    plt.plot(x,y, \"go\")\n",
        "    plt.text(x,y,i,horizontalalignment='right',c=\"r\")\n",
        "    i += 1\n",
        "\n",
        "plt.show()"
      ]
    },
    {
      "cell_type": "code",
      "execution_count": 5,
      "metadata": {},
      "outputs": [
        {
          "name": "stdout",
          "output_type": "stream",
          "text": [
            "X = 26.222444889779556 og Y = 743.8462200583804\n",
            "X = 26.0 og Y = 744.0\n"
          ]
        }
      ],
      "source": [
        "# Choose the index from the graph above\n",
        "i = 11\n",
        "print(f\"X = {points[i][0]} og Y = {points[i][1]}\")\n",
        "print(f\"X = {round(points[i][0],0)} og Y = {round(points[i][1],0)}\")\n"
      ]
    }
  ],
  "metadata": {
    "kernelspec": {
      "display_name": "Python 3.8.10 64-bit",
      "language": "python",
      "name": "python3"
    },
    "language_info": {
      "codemirror_mode": {
        "name": "ipython",
        "version": 3
      },
      "file_extension": ".py",
      "mimetype": "text/x-python",
      "name": "python",
      "nbconvert_exporter": "python",
      "pygments_lexer": "ipython3",
      "version": "3.8.10"
    },
    "orig_nbformat": 4,
    "vscode": {
      "interpreter": {
        "hash": "916dbcbb3f70747c44a77c7bcd40155683ae19c65e1c03b4aa3499c5328201f1"
      }
    }
  },
  "nbformat": 4,
  "nbformat_minor": 2
}